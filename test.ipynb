{
 "cells": [
  {
   "cell_type": "code",
   "execution_count": 7,
   "metadata": {},
   "outputs": [],
   "source": [
    "import PIL\n",
    "import os\n",
    "import pyautogui\n",
    "import time\n",
    "import win32gui\n",
    "import win32con\n",
    "from typing import Optional\n",
    "from functools import partial\n",
    "import keyboard\n",
    "from loguru import logger"
   ]
  },
  {
   "cell_type": "code",
   "execution_count": 8,
   "metadata": {},
   "outputs": [],
   "source": [
    "def get_roblox_window():\n",
    "    def callback(hwnd, extra):\n",
    "        if win32gui.GetWindowText(hwnd) == \"Roblox\":\n",
    "            extra.append(hwnd)\n",
    "    windows = []\n",
    "    win32gui.EnumWindows(callback, windows)\n",
    "    return windows[0]\n",
    "\n",
    "def get_roblox_window_pos(hwnd: Optional[int] = None) -> tuple[int, int, int, int]:\n",
    "    if not hwnd:\n",
    "        hwnd = get_roblox_window()\n",
    "    try:\n",
    "        return win32gui.GetWindowRect(hwnd)\n",
    "    except:\n",
    "        return (0, 0, 0, 0)\n",
    "    \n",
    "def activate_roblox():\n",
    "    # if the window is showing but not active, win32gui.SetForegroundWindow(hwnd) will not work\n",
    "    # so we need to click on the window to activate it\n",
    "    hwnd = get_roblox_window()\n",
    "    if win32gui.IsWindowVisible(hwnd) and not win32gui.IsIconic(hwnd):\n",
    "         # then let's hide the window\n",
    "        win32gui.ShowWindow(hwnd, win32con.SW_MINIMIZE)\n",
    "        time.sleep(0.3)\n",
    "    # then let's show the window and activate it\n",
    "    win32gui.ShowWindow(hwnd, win32con.SW_MAXIMIZE)\n",
    "    time.sleep(0.3)\n",
    "\n",
    "\n",
    "def get_current_active_window():\n",
    "    # returns screen title\n",
    "    return win32gui.GetWindowText(win32gui.GetForegroundWindow())"
   ]
  },
  {
   "cell_type": "code",
   "execution_count": 9,
   "metadata": {},
   "outputs": [],
   "source": [
    "img = PIL.Image.open(\"edmacro/assets/respawn_tome.png\")\n",
    "\n",
    "activate_roblox()\n",
    "\n",
    "box = pyautogui.locateCenterOnScreen(\"edmacro/assets/respawn_tome.png\", confidence=0.40)\n",
    "pyautogui.moveTo(box)"
   ]
  },
  {
   "cell_type": "code",
   "execution_count": 18,
   "metadata": {},
   "outputs": [],
   "source": [
    "img = PIL.Image.open(\"edmacro/assets/respawn_button.png\")\n",
    "\n",
    "activate_roblox()\n",
    "\n",
    "try:\n",
    "    box = pyautogui.locateCenterOnScreen(\"edmacro/assets/start.png\", confidence=0.98, grayscale=True)\n",
    "    pyautogui.moveTo(box)\n",
    "except:\n",
    "    print(\"not found\")\n",
    "    \n"
   ]
  },
  {
   "cell_type": "code",
   "execution_count": 14,
   "metadata": {},
   "outputs": [],
   "source": [
    "def click(**kwargs):\n",
    "    if get_current_active_window() != \"Roblox\":\n",
    "        activate_roblox()\n",
    "    pyautogui.mouseDown()\n",
    "    time.sleep(0.1)\n",
    "    pyautogui.click(**kwargs)\n",
    "    \n",
    "def respawn(should_claim: bool = False, needs_respawn: bool = False):\n",
    "    \n",
    "    RESPAWN_BUTTON = PIL.Image.open(\"edmacro/assets/respawn_button.png\")\n",
    "    RESPAWN_TOME = PIL.Image.open(\"edmacro/assets/respawn_tome.png\")\n",
    "    START_BUTTON = PIL.Image.open(\"edmacro/assets/start.png\")\n",
    "    CLAIM_BUTTON = PIL.Image.open(\"edmacro/assets/claim.png\")\n",
    "    CLOSE_AFK_WARNING = PIL.Image.open(\"edmacro/assets/close.png\")\n",
    "\n",
    "    if should_claim:\n",
    "        logger.info(\"Claiming rewards\")\n",
    "        box = pyautogui.locateCenterOnScreen(CLAIM_BUTTON, confidence=0.95)\n",
    "        pyautogui.moveTo(box, duration=0.3)\n",
    "        time.sleep(0.3)\n",
    "        click()\n",
    "        time.sleep(4)\n",
    "        tries = 0\n",
    "        while tries < 5:\n",
    "            try:    \n",
    "                logger.info(\"Closing AFK warning\")\n",
    "                box = pyautogui.locateCenterOnScreen(CLOSE_AFK_WARNING, confidence=0.95)\n",
    "                pyautogui.moveTo(box, duration=0.3)\n",
    "                time.sleep(0.3)\n",
    "                click()\n",
    "                time.sleep(1)\n",
    "                break\n",
    "            except:\n",
    "                logger.info(f\"Failed to close AFK warning, retrying({tries}/{5})\")\n",
    "                tries += 1\n",
    "                time.sleep(1)\n",
    "\n",
    "                \n",
    "    if needs_respawn:\n",
    "        logger.info(\"Respawning\")\n",
    "        box = pyautogui.locateCenterOnScreen(RESPAWN_TOME, confidence=0.95)\n",
    "        pyautogui.moveTo(box, duration=0.3)\n",
    "        time.sleep(0.3)\n",
    "        click()\n",
    "        time.sleep(1)\n",
    "        box = pyautogui.locateCenterOnScreen(RESPAWN_BUTTON, confidence=0.95)\n",
    "        pyautogui.moveTo(box, duration=0.3)\n",
    "        time.sleep(0.3)\n",
    "        click(clicks=2, interval=0.8)\n",
    "        time.sleep(2)\n",
    "\n",
    "    try:\n",
    "        logger.info(\"Starting game\")\n",
    "        box = pyautogui.locateCenterOnScreen(START_BUTTON, confidence=0.85)\n",
    "        pyautogui.moveTo(box, duration=0.3)\n",
    "        time.sleep(0.3)\n",
    "        click(clicks=2, interval=0.3)\n",
    "        time.sleep(1)\n",
    "        return True\n",
    "    except Exception as e:\n",
    "        # save a screenshot of the screen\n",
    "        pyautogui.screenshot(\"error.png\")\n",
    "        raise e\n",
    "\n",
    "def freeze_game(seconds):\n",
    "    FREEZE_BUTTON = PIL.Image.open(\"edmacro/assets/freeze.png\")\n",
    "    logger.info(f\"Freezing game for {seconds} seconds\")\n",
    "    box = pyautogui.locateCenterOnScreen(FREEZE_BUTTON, confidence=0.95)\n",
    "    pyautogui.moveTo(box)\n",
    "    pyautogui.mouseDown()\n",
    "    time.sleep(seconds)\n",
    "    pyautogui.moveTo(10, 10, duration=0.3)\n",
    "    pyautogui.mouseUp()"
   ]
  },
  {
   "cell_type": "code",
   "execution_count": 15,
   "metadata": {},
   "outputs": [
    {
     "name": "stderr",
     "output_type": "stream",
     "text": [
      "\u001b[32m2024-03-30 13:03:56.934\u001b[0m | \u001b[1mINFO    \u001b[0m | \u001b[36m__main__\u001b[0m:\u001b[36mrespawn\u001b[0m:\u001b[36m53\u001b[0m - \u001b[1mStarting game\u001b[0m\n"
     ]
    },
    {
     "ename": "ImageNotFoundException",
     "evalue": "",
     "output_type": "error",
     "traceback": [
      "\u001b[1;31m---------------------------------------------------------------------------\u001b[0m",
      "\u001b[1;31mImageNotFoundException\u001b[0m                    Traceback (most recent call last)",
      "File \u001b[1;32mc:\\Users\\jedma\\AppData\\Local\\Programs\\Python\\Python312\\Lib\\site-packages\\pyautogui\\__init__.py:172\u001b[0m, in \u001b[0;36mraisePyAutoGUIImageNotFoundException.<locals>.wrapper\u001b[1;34m(*args, **kwargs)\u001b[0m\n\u001b[0;32m    171\u001b[0m \u001b[38;5;28;01mtry\u001b[39;00m:\n\u001b[1;32m--> 172\u001b[0m     \u001b[38;5;28;01mreturn\u001b[39;00m \u001b[43mwrappedFunction\u001b[49m\u001b[43m(\u001b[49m\u001b[38;5;241;43m*\u001b[39;49m\u001b[43margs\u001b[49m\u001b[43m,\u001b[49m\u001b[43m \u001b[49m\u001b[38;5;241;43m*\u001b[39;49m\u001b[38;5;241;43m*\u001b[39;49m\u001b[43mkwargs\u001b[49m\u001b[43m)\u001b[49m\n\u001b[0;32m    173\u001b[0m \u001b[38;5;28;01mexcept\u001b[39;00m pyscreeze\u001b[38;5;241m.\u001b[39mImageNotFoundException:\n",
      "File \u001b[1;32mc:\\Users\\jedma\\AppData\\Local\\Programs\\Python\\Python312\\Lib\\site-packages\\pyautogui\\__init__.py:204\u001b[0m, in \u001b[0;36mlocateCenterOnScreen\u001b[1;34m(*args, **kwargs)\u001b[0m\n\u001b[0;32m    202\u001b[0m \u001b[38;5;129m@raisePyAutoGUIImageNotFoundException\u001b[39m\n\u001b[0;32m    203\u001b[0m \u001b[38;5;28;01mdef\u001b[39;00m \u001b[38;5;21mlocateCenterOnScreen\u001b[39m(\u001b[38;5;241m*\u001b[39margs, \u001b[38;5;241m*\u001b[39m\u001b[38;5;241m*\u001b[39mkwargs):\n\u001b[1;32m--> 204\u001b[0m     \u001b[38;5;28;01mreturn\u001b[39;00m \u001b[43mpyscreeze\u001b[49m\u001b[38;5;241;43m.\u001b[39;49m\u001b[43mlocateCenterOnScreen\u001b[49m\u001b[43m(\u001b[49m\u001b[38;5;241;43m*\u001b[39;49m\u001b[43margs\u001b[49m\u001b[43m,\u001b[49m\u001b[43m \u001b[49m\u001b[38;5;241;43m*\u001b[39;49m\u001b[38;5;241;43m*\u001b[39;49m\u001b[43mkwargs\u001b[49m\u001b[43m)\u001b[49m\n",
      "File \u001b[1;32mc:\\Users\\jedma\\AppData\\Local\\Programs\\Python\\Python312\\Lib\\site-packages\\pyscreeze\\__init__.py:447\u001b[0m, in \u001b[0;36mlocateCenterOnScreen\u001b[1;34m(image, **kwargs)\u001b[0m\n\u001b[0;32m    444\u001b[0m \u001b[38;5;250m\u001b[39m\u001b[38;5;124;03m\"\"\"\u001b[39;00m\n\u001b[0;32m    445\u001b[0m \u001b[38;5;124;03mTODO\u001b[39;00m\n\u001b[0;32m    446\u001b[0m \u001b[38;5;124;03m\"\"\"\u001b[39;00m\n\u001b[1;32m--> 447\u001b[0m coords \u001b[38;5;241m=\u001b[39m \u001b[43mlocateOnScreen\u001b[49m\u001b[43m(\u001b[49m\u001b[43mimage\u001b[49m\u001b[43m,\u001b[49m\u001b[43m \u001b[49m\u001b[38;5;241;43m*\u001b[39;49m\u001b[38;5;241;43m*\u001b[39;49m\u001b[43mkwargs\u001b[49m\u001b[43m)\u001b[49m\n\u001b[0;32m    448\u001b[0m \u001b[38;5;28;01mif\u001b[39;00m coords \u001b[38;5;129;01mis\u001b[39;00m \u001b[38;5;28;01mNone\u001b[39;00m:\n",
      "File \u001b[1;32mc:\\Users\\jedma\\AppData\\Local\\Programs\\Python\\Python312\\Lib\\site-packages\\pyscreeze\\__init__.py:405\u001b[0m, in \u001b[0;36mlocateOnScreen\u001b[1;34m(image, minSearchTime, **kwargs)\u001b[0m\n\u001b[0;32m    404\u001b[0m screenshotIm \u001b[38;5;241m=\u001b[39m screenshot(region\u001b[38;5;241m=\u001b[39m\u001b[38;5;28;01mNone\u001b[39;00m)\n\u001b[1;32m--> 405\u001b[0m retVal \u001b[38;5;241m=\u001b[39m \u001b[43mlocate\u001b[49m\u001b[43m(\u001b[49m\u001b[43mimage\u001b[49m\u001b[43m,\u001b[49m\u001b[43m \u001b[49m\u001b[43mscreenshotIm\u001b[49m\u001b[43m,\u001b[49m\u001b[43m \u001b[49m\u001b[38;5;241;43m*\u001b[39;49m\u001b[38;5;241;43m*\u001b[39;49m\u001b[43mkwargs\u001b[49m\u001b[43m)\u001b[49m\n\u001b[0;32m    406\u001b[0m \u001b[38;5;28;01mtry\u001b[39;00m:\n",
      "File \u001b[1;32mc:\\Users\\jedma\\AppData\\Local\\Programs\\Python\\Python312\\Lib\\site-packages\\pyscreeze\\__init__.py:383\u001b[0m, in \u001b[0;36mlocate\u001b[1;34m(needleImage, haystackImage, **kwargs)\u001b[0m\n\u001b[0;32m    382\u001b[0m kwargs[\u001b[38;5;124m'\u001b[39m\u001b[38;5;124mlimit\u001b[39m\u001b[38;5;124m'\u001b[39m] \u001b[38;5;241m=\u001b[39m \u001b[38;5;241m1\u001b[39m\n\u001b[1;32m--> 383\u001b[0m points \u001b[38;5;241m=\u001b[39m \u001b[38;5;28;43mtuple\u001b[39;49m\u001b[43m(\u001b[49m\u001b[43mlocateAll\u001b[49m\u001b[43m(\u001b[49m\u001b[43mneedleImage\u001b[49m\u001b[43m,\u001b[49m\u001b[43m \u001b[49m\u001b[43mhaystackImage\u001b[49m\u001b[43m,\u001b[49m\u001b[43m \u001b[49m\u001b[38;5;241;43m*\u001b[39;49m\u001b[38;5;241;43m*\u001b[39;49m\u001b[43mkwargs\u001b[49m\u001b[43m)\u001b[49m\u001b[43m)\u001b[49m\n\u001b[0;32m    384\u001b[0m \u001b[38;5;28;01mif\u001b[39;00m \u001b[38;5;28mlen\u001b[39m(points) \u001b[38;5;241m>\u001b[39m \u001b[38;5;241m0\u001b[39m:\n",
      "File \u001b[1;32mc:\\Users\\jedma\\AppData\\Local\\Programs\\Python\\Python312\\Lib\\site-packages\\pyscreeze\\__init__.py:257\u001b[0m, in \u001b[0;36m_locateAll_opencv\u001b[1;34m(needleImage, haystackImage, grayscale, limit, region, step, confidence)\u001b[0m\n\u001b[0;32m    256\u001b[0m \u001b[38;5;28;01mif\u001b[39;00m USE_IMAGE_NOT_FOUND_EXCEPTION:\n\u001b[1;32m--> 257\u001b[0m     \u001b[38;5;28;01mraise\u001b[39;00m ImageNotFoundException(\u001b[38;5;124m'\u001b[39m\u001b[38;5;124mCould not locate the image (highest confidence = \u001b[39m\u001b[38;5;132;01m%.3f\u001b[39;00m\u001b[38;5;124m)\u001b[39m\u001b[38;5;124m'\u001b[39m \u001b[38;5;241m%\u001b[39m result\u001b[38;5;241m.\u001b[39mmax())\n\u001b[0;32m    258\u001b[0m \u001b[38;5;28;01melse\u001b[39;00m:\n",
      "\u001b[1;31mImageNotFoundException\u001b[0m: Could not locate the image (highest confidence = 0.405)",
      "\nDuring handling of the above exception, another exception occurred:\n",
      "\u001b[1;31mImageNotFoundException\u001b[0m                    Traceback (most recent call last)",
      "Cell \u001b[1;32mIn[15], line 2\u001b[0m\n\u001b[0;32m      1\u001b[0m time\u001b[38;5;241m.\u001b[39msleep(\u001b[38;5;241m2\u001b[39m)\n\u001b[1;32m----> 2\u001b[0m \u001b[43mrespawn\u001b[49m\u001b[43m(\u001b[49m\u001b[43mshould_claim\u001b[49m\u001b[38;5;241;43m=\u001b[39;49m\u001b[38;5;28;43;01mFalse\u001b[39;49;00m\u001b[43m,\u001b[49m\u001b[43m \u001b[49m\u001b[43mneeds_respawn\u001b[49m\u001b[38;5;241;43m=\u001b[39;49m\u001b[38;5;28;43;01mFalse\u001b[39;49;00m\u001b[43m)\u001b[49m\n\u001b[0;32m      3\u001b[0m time\u001b[38;5;241m.\u001b[39msleep(\u001b[38;5;241m5\u001b[39m)\n\u001b[0;32m      4\u001b[0m freeze_game(\u001b[38;5;241m150\u001b[39m)\n",
      "Cell \u001b[1;32mIn[14], line 63\u001b[0m, in \u001b[0;36mrespawn\u001b[1;34m(should_claim, needs_respawn)\u001b[0m\n\u001b[0;32m     60\u001b[0m \u001b[38;5;28;01mexcept\u001b[39;00m \u001b[38;5;167;01mException\u001b[39;00m \u001b[38;5;28;01mas\u001b[39;00m e:\n\u001b[0;32m     61\u001b[0m     \u001b[38;5;66;03m# save a screenshot of the screen\u001b[39;00m\n\u001b[0;32m     62\u001b[0m     pyautogui\u001b[38;5;241m.\u001b[39mscreenshot(\u001b[38;5;124m\"\u001b[39m\u001b[38;5;124merror.png\u001b[39m\u001b[38;5;124m\"\u001b[39m)\n\u001b[1;32m---> 63\u001b[0m     \u001b[38;5;28;01mraise\u001b[39;00m e\n",
      "Cell \u001b[1;32mIn[14], line 54\u001b[0m, in \u001b[0;36mrespawn\u001b[1;34m(should_claim, needs_respawn)\u001b[0m\n\u001b[0;32m     52\u001b[0m \u001b[38;5;28;01mtry\u001b[39;00m:\n\u001b[0;32m     53\u001b[0m     logger\u001b[38;5;241m.\u001b[39minfo(\u001b[38;5;124m\"\u001b[39m\u001b[38;5;124mStarting game\u001b[39m\u001b[38;5;124m\"\u001b[39m)\n\u001b[1;32m---> 54\u001b[0m     box \u001b[38;5;241m=\u001b[39m \u001b[43mpyautogui\u001b[49m\u001b[38;5;241;43m.\u001b[39;49m\u001b[43mlocateCenterOnScreen\u001b[49m\u001b[43m(\u001b[49m\u001b[43mSTART_BUTTON\u001b[49m\u001b[43m,\u001b[49m\u001b[43m \u001b[49m\u001b[43mconfidence\u001b[49m\u001b[38;5;241;43m=\u001b[39;49m\u001b[38;5;241;43m0.85\u001b[39;49m\u001b[43m)\u001b[49m\n\u001b[0;32m     55\u001b[0m     pyautogui\u001b[38;5;241m.\u001b[39mmoveTo(box, duration\u001b[38;5;241m=\u001b[39m\u001b[38;5;241m0.3\u001b[39m)\n\u001b[0;32m     56\u001b[0m     time\u001b[38;5;241m.\u001b[39msleep(\u001b[38;5;241m0.3\u001b[39m)\n",
      "File \u001b[1;32mc:\\Users\\jedma\\AppData\\Local\\Programs\\Python\\Python312\\Lib\\site-packages\\pyautogui\\__init__.py:174\u001b[0m, in \u001b[0;36mraisePyAutoGUIImageNotFoundException.<locals>.wrapper\u001b[1;34m(*args, **kwargs)\u001b[0m\n\u001b[0;32m    172\u001b[0m     \u001b[38;5;28;01mreturn\u001b[39;00m wrappedFunction(\u001b[38;5;241m*\u001b[39margs, \u001b[38;5;241m*\u001b[39m\u001b[38;5;241m*\u001b[39mkwargs)\n\u001b[0;32m    173\u001b[0m \u001b[38;5;28;01mexcept\u001b[39;00m pyscreeze\u001b[38;5;241m.\u001b[39mImageNotFoundException:\n\u001b[1;32m--> 174\u001b[0m     \u001b[38;5;28;01mraise\u001b[39;00m ImageNotFoundException\n",
      "\u001b[1;31mImageNotFoundException\u001b[0m: "
     ]
    }
   ],
   "source": [
    "time.sleep(2)\n",
    "respawn(should_claim=False, needs_respawn=False)\n",
    "time.sleep(5)\n",
    "freeze_game(150)\n",
    "time.sleep(20)\n",
    "logger.info(\"Moving forward\")\n",
    "keyboard.press(\"w\")\n",
    "time.sleep(2)\n",
    "keyboard.release(\"w\")\n",
    "respawn(should_claim=True, needs_respawn=True)"
   ]
  },
  {
   "cell_type": "code",
   "execution_count": null,
   "metadata": {},
   "outputs": [],
   "source": [
    "time.sleep(2)\n",
    "click()"
   ]
  },
  {
   "cell_type": "code",
   "execution_count": 16,
   "metadata": {},
   "outputs": [],
   "source": []
  },
  {
   "cell_type": "code",
   "execution_count": 84,
   "metadata": {},
   "outputs": [],
   "source": [
    "freeze_game(6)"
   ]
  },
  {
   "cell_type": "code",
   "execution_count": 19,
   "metadata": {},
   "outputs": [],
   "source": [
    "CLAIM_BUTTON_POSITION = (956, 703)\n",
    "CLOSE_AFK_WARNING_POSITION = (956, 703)\n",
    "RESPAWN_BUTTON_POSITION = (882, 573)\n",
    "RESPAWN_TOME_POSITION = (882, 573)\n",
    "START_BUTTON_POSITION = (846, 721)"
   ]
  },
  {
   "cell_type": "code",
   "execution_count": 21,
   "metadata": {},
   "outputs": [],
   "source": [
    "pyautogui.moveTo(*START_BUTTON_POSITION)\n",
    "click()\n",
    "time.sleep(2)\n",
    "freeze_game(130)"
   ]
  },
  {
   "cell_type": "code",
   "execution_count": null,
   "metadata": {},
   "outputs": [],
   "source": []
  }
 ],
 "metadata": {
  "kernelspec": {
   "display_name": "Python 3",
   "language": "python",
   "name": "python3"
  },
  "language_info": {
   "codemirror_mode": {
    "name": "ipython",
    "version": 3
   },
   "file_extension": ".py",
   "mimetype": "text/x-python",
   "name": "python",
   "nbconvert_exporter": "python",
   "pygments_lexer": "ipython3",
   "version": "3.12.1"
  }
 },
 "nbformat": 4,
 "nbformat_minor": 2
}
